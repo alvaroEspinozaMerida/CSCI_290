{
 "nbformat": 4,
 "nbformat_minor": 0,
 "metadata": {
  "colab": {
   "provenance": []
  },
  "kernelspec": {
   "name": "python3",
   "display_name": "Python 3"
  }
 },
 "cells": [
  {
   "cell_type": "markdown",
   "metadata": {
    "id": "KoxsYmKJVAqN"
   },
   "source": [
    "**Python Functions Input Parameters Review**"
   ]
  },
  {
   "cell_type": "code",
   "metadata": {
    "id": "SbTrq1rEU6-u",
    "colab": {
     "base_uri": "https://localhost:8080/"
    },
    "outputId": "f0efdceb-a47d-420c-bc5e-73f9208885ac"
   },
   "source": [
    "def greet(name,msg):\n",
    "   \"\"\"This function greets to\n",
    "   the person with the provided message\"\"\"\n",
    "   print(\"Hello\",name + ', ' + msg)\n",
    "\n",
    "greet(\"Gheni\",\"Good morning!\")"
   ],
   "execution_count": 1,
   "outputs": [
    {
     "output_type": "stream",
     "name": "stdout",
     "text": [
      "Hello Gheni, Good morning!\n"
     ]
    }
   ]
  },
  {
   "cell_type": "code",
   "metadata": {
    "id": "dZ8a6QUovbae",
    "colab": {
     "base_uri": "https://localhost:8080/"
    },
    "outputId": "1abeffba-dfae-402f-88de-34fbedb9f4d7"
   },
   "source": [
    "def greet(name,msg):\n",
    "   \"\"\"This function greets to\n",
    "   the person with the provided message\"\"\"\n",
    "   return \"Hello\" + name + ', ' + msg\n",
    "\n",
    "print(greet(\"Gheni\",\"Good morning!\"))"
   ],
   "execution_count": 2,
   "outputs": [
    {
     "output_type": "stream",
     "name": "stdout",
     "text": [
      "HelloGheni, Good morning!\n"
     ]
    }
   ]
  },
  {
   "cell_type": "code",
   "metadata": {
    "id": "SrVnGgeoVm35",
    "colab": {
     "base_uri": "https://localhost:8080/"
    },
    "outputId": "ae9e906f-a878-4b8f-806a-18b1f5e9a310"
   },
   "source": [
    "def greet(name=\"dfdlfk\", msg = \"Good morning!\"):\n",
    "   \"\"\"\n",
    "   This function greets to the person with the\n",
    "   provided message.\n",
    "   If message is not provided, it defaults to \"Good morning!\"\n",
    "   \"\"\"\n",
    "\n",
    "   print(\"Hello\",name + ', ' + msg)\n",
    "\n",
    "greet(name=\"Kate\")\n",
    "greet(\"Bruce\",\"How do you do?\")\n",
    "greet(\"Bruce\",msg=\"Hello?\")"
   ],
   "execution_count": 3,
   "outputs": [
    {
     "output_type": "stream",
     "name": "stdout",
     "text": [
      "Hello Kate, Good morning!\n",
      "Hello Bruce, How do you do?\n",
      "Hello Bruce, Hello?\n"
     ]
    }
   ]
  },
  {
   "cell_type": "code",
   "metadata": {
    "id": "jfrG8Z2QWSrs",
    "colab": {
     "base_uri": "https://localhost:8080/"
    },
    "outputId": "cbe127a6-c79b-403e-94ca-d9b3f5a52b08"
   },
   "source": [
    "def greet(*names):\n",
    "   \"\"\"This function greets all\n",
    "   the persons in the names tuple.\"\"\"\n",
    "\n",
    "   # names is a tuple with arguments\n",
    "   for name in names:\n",
    "       print(\"Hello\",name)\n",
    "\n",
    "greet(\"Monica\",\"Luke\",\"Steve\",\"John\", \"Bob\")"
   ],
   "execution_count": 4,
   "outputs": [
    {
     "output_type": "stream",
     "name": "stdout",
     "text": [
      "Hello Monica\n",
      "Hello Luke\n",
      "Hello Steve\n",
      "Hello John\n",
      "Hello Bob\n"
     ]
    }
   ]
  }
 ]
}
