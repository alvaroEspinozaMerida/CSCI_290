{
  "nbformat": 4,
  "nbformat_minor": 0,
  "metadata": {
    "colab": {
      "name": "lecture16-colab_turtle.ipynb",
      "provenance": [],
      "collapsed_sections": []
    },
    "kernelspec": {
      "name": "python3",
      "display_name": "Python 3"
    }
  },
  "cells": [
    {
      "cell_type": "code",
      "metadata": {
        "id": "LjBmY2ndoSrb",
        "colab": {
          "base_uri": "https://localhost:8080/"
        },
        "outputId": "82357dd8-957f-47c2-a2ac-7f0c08389686"
      },
      "source": [
        "!pip install ColabTurtle"
      ],
      "execution_count": 1,
      "outputs": [
        {
          "output_type": "stream",
          "text": [
            "Collecting ColabTurtle\n",
            "  Downloading https://files.pythonhosted.org/packages/49/01/6da7091c2c6c917cce99c000b89acb6aa27b66ef6eafc0c0ccf59b98694f/ColabTurtle-2.0.0.tar.gz\n",
            "Building wheels for collected packages: ColabTurtle\n",
            "  Building wheel for ColabTurtle (setup.py) ... \u001b[?25l\u001b[?25hdone\n",
            "  Created wheel for ColabTurtle: filename=ColabTurtle-2.0.0-cp36-none-any.whl size=4032 sha256=e77f624c1a12149c386f8632ebad0e85d918769b7e847589320513f817eeefff\n",
            "  Stored in directory: /root/.cache/pip/wheels/a8/29/ec/ad346f0042ae467cc74f4378916348faf975b07890651dcae7\n",
            "Successfully built ColabTurtle\n",
            "Installing collected packages: ColabTurtle\n",
            "Successfully installed ColabTurtle-2.0.0\n"
          ],
          "name": "stdout"
        }
      ]
    },
    {
      "cell_type": "code",
      "metadata": {
        "id": "k1fWZBJ3KpuP",
        "colab": {
          "base_uri": "https://localhost:8080/"
        },
        "outputId": "d31b0bfe-4344-4a24-b8da-f4f9038f695c"
      },
      "source": [
        "!date"
      ],
      "execution_count": 3,
      "outputs": [
        {
          "output_type": "stream",
          "text": [
            "Sun Feb  7 00:24:10 UTC 2021\n"
          ],
          "name": "stdout"
        }
      ]
    },
    {
      "cell_type": "code",
      "metadata": {
        "id": "8PFygIEvpO_i",
        "colab": {
          "base_uri": "https://localhost:8080/",
          "height": 521
        },
        "outputId": "08cddf43-6a83-4a4e-9c06-dd394fbad8ea"
      },
      "source": [
        "#https://github.com/tolgaatam/ColabTurtle/blob/master/ColabTurtle/Turtle.py\n",
        "from ColabTurtle.Turtle import *\n",
        "initializeTurtle()\n",
        "left(20)\n",
        "\n",
        "color(\"red\")\n",
        "forward(50)\n",
        "left(90)\n",
        "forward(50)\n",
        "left(90)\n",
        "forward(50)\n",
        "left(90)\n",
        "forward(50)\n",
        "left(90)\n",
        "\n",
        "left(30)\n",
        "color(\"green\")\n",
        "forward(50)\n",
        "left(90)\n",
        "forward(50)\n",
        "left(90)\n",
        "forward(50)\n",
        "left(90)\n",
        "forward(50)\n",
        "left(90)\n",
        "\n",
        "left(40)\n",
        "color(\"blue\")\n",
        "forward(50)\n",
        "left(90)\n",
        "forward(50)\n",
        "left(90)\n",
        "forward(50)\n",
        "left(90)\n",
        "forward(50)\n",
        "left(90)\n",
        "\n",
        "write"
      ],
      "execution_count": 2,
      "outputs": [
        {
          "output_type": "display_data",
          "data": {
            "text/html": [
              "\n",
              "      <svg width=\"800\" height=\"500\">\n",
              "        <rect width=\"100%\" height=\"100%\" fill=\"black\"/>\n",
              "        <line x1=\"400\" y1=\"250\" x2=\"382.8989928337166\" y2=\"203.01536896070456\" stroke-linecap=\"round\" style=\"stroke:red;stroke-width:4\"/><line x1=\"382.8989928337166\" y1=\"203.01536896070456\" x2=\"335.91436179442115\" y2=\"220.116376126988\" stroke-linecap=\"round\" style=\"stroke:red;stroke-width:4\"/><line x1=\"335.91436179442115\" y1=\"220.116376126988\" x2=\"353.0153689607046\" y2=\"267.1010071662834\" stroke-linecap=\"round\" style=\"stroke:red;stroke-width:4\"/><line x1=\"353.0153689607046\" y1=\"267.1010071662834\" x2=\"400.00000000000006\" y2=\"249.99999999999997\" stroke-linecap=\"round\" style=\"stroke:red;stroke-width:4\"/><line x1=\"400.00000000000006\" y1=\"249.99999999999997\" x2=\"361.69777784405113\" y2=\"217.86061951567302\" stroke-linecap=\"round\" style=\"stroke:green;stroke-width:4\"/><line x1=\"361.69777784405113\" y1=\"217.86061951567302\" x2=\"329.55839735972415\" y2=\"256.16284167162195\" stroke-linecap=\"round\" style=\"stroke:green;stroke-width:4\"/><line x1=\"329.55839735972415\" y1=\"256.16284167162195\" x2=\"367.8606195156731\" y2=\"288.3022221559489\" stroke-linecap=\"round\" style=\"stroke:green;stroke-width:4\"/><line x1=\"367.8606195156731\" y1=\"288.3022221559489\" x2=\"400.00000000000006\" y2=\"250.00000000000003\" stroke-linecap=\"round\" style=\"stroke:green;stroke-width:4\"/><line x1=\"400.00000000000006\" y1=\"250.00000000000003\" x2=\"350.00000000000006\" y2=\"250.00000000000003\" stroke-linecap=\"round\" style=\"stroke:blue;stroke-width:4\"/><line x1=\"350.00000000000006\" y1=\"250.00000000000003\" x2=\"350.00000000000006\" y2=\"300.0\" stroke-linecap=\"round\" style=\"stroke:blue;stroke-width:4\"/><line x1=\"350.00000000000006\" y1=\"300.0\" x2=\"400.00000000000006\" y2=\"300.0\" stroke-linecap=\"round\" style=\"stroke:blue;stroke-width:4\"/><line x1=\"400.00000000000006\" y1=\"300.0\" x2=\"400.00000000000006\" y2=\"250.0\" stroke-linecap=\"round\" style=\"stroke:blue;stroke-width:4\"/>\n",
              "        \n",
              "      <g visibility=visible transform=\"rotate(90,400.00000000000006,250.0) translate(400.00000000000006, 250.0)\">\n",
              "        <circle stroke=\"blue\" stroke-width=\"3\" fill=\"transparent\" r=\"12\" cx=\"0\" cy=\"0\"/>\n",
              "        <polygon points=\"0,19 3,16 -3,16\" style=\"fill:blue;stroke:blue;stroke-width:2\"/>\n",
              "      </g>\n",
              "    \n",
              "      </svg>\n",
              "    "
            ],
            "text/plain": [
              "<IPython.core.display.HTML object>"
            ]
          },
          "metadata": {
            "tags": []
          }
        }
      ]
    }
  ]
}