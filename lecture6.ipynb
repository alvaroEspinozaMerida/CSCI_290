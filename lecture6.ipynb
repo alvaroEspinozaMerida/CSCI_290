{
  "nbformat": 4,
  "nbformat_minor": 0,
  "metadata": {
    "colab": {
      "provenance": []
    },
    "kernelspec": {
      "name": "python3",
      "display_name": "Python 3"
    }
  },
  "cells": [
    {
      "cell_type": "code",
      "metadata": {
        "id": "7CIbPrX_cpvh"
      },
      "source": [
        "#files\n",
        "# Echo the contents of a file\n",
        "#f = open('foo.txt', 'rU')\n",
        "#for line in f:   ## iterates over the lines of the file\n",
        "#    print(line)    ## trailing , so print does not add an end-of-line char\n",
        "#                   ## since 'line' already includes the end-of line.\n",
        "#f.close()\n"
      ],
      "execution_count": 1,
      "outputs": []
    },
    {
      "cell_type": "code",
      "metadata": {
        "id": "4k2pIRQac8Tb",
        "outputId": "0cd34794-fda4-443e-fbb8-14660c248031",
        "colab": {
          "base_uri": "https://localhost:8080/"
        }
      },
      "source": [
        "#Creating a class in Python\n",
        "class Person:\n",
        "  def __init__(self, name, age):\n",
        "    self.name = name\n",
        "    self.age = age\n",
        "\n",
        "p1 = Person(\"John\", 36)\n",
        "\n",
        "print(p1.name)\n",
        "print(p1.age)"
      ],
      "execution_count": 2,
      "outputs": [
        {
          "output_type": "stream",
          "name": "stdout",
          "text": [
            "John\n",
            "36\n"
          ]
        }
      ]
    },
    {
      "cell_type": "code",
      "metadata": {
        "id": "9GEPXQoKdYgE",
        "outputId": "8bcdd3ec-3601-4079-d2fc-45ea9837db67",
        "colab": {
          "base_uri": "https://localhost:8080/"
        }
      },
      "source": [
        "class Person:\n",
        "  def __init__(self, fname, lname):\n",
        "    self.firstname = fname\n",
        "    self.lastname = lname\n",
        "\n",
        "  def printname(self):\n",
        "    print(self.firstname, self.lastname)\n",
        "\n",
        "#Use the Person class to create an object, and then execute the printname method:\n",
        "\n",
        "x = Person(\"John\", \"Doe\")\n",
        "x.printname()"
      ],
      "execution_count": 3,
      "outputs": [
        {
          "output_type": "stream",
          "name": "stdout",
          "text": [
            "John Doe\n"
          ]
        }
      ]
    },
    {
      "cell_type": "code",
      "metadata": {
        "id": "mFpWuBPbd1gP",
        "outputId": "fc1191d3-0187-40c8-b1ba-f1d6250cb8ae",
        "colab": {
          "base_uri": "https://localhost:8080/"
        }
      },
      "source": [
        "#Class inheritence\n",
        "class Student(Person):\n",
        "  pass\n",
        "\n",
        "x = Student(\"Mike\", \"Olsen\")\n",
        "x.printname()"
      ],
      "execution_count": 4,
      "outputs": [
        {
          "output_type": "stream",
          "name": "stdout",
          "text": [
            "Mike Olsen\n"
          ]
        }
      ]
    },
    {
      "cell_type": "code",
      "metadata": {
        "id": "plKqAYOaeB2g",
        "colab": {
          "base_uri": "https://localhost:8080/"
        },
        "outputId": "95e98dad-9818-4fb9-e9d3-3a33cd336b1f"
      },
      "source": [
        "class Account:\n",
        "    id = 0\n",
        "    \n",
        "    def __init__(self, owner_name):\n",
        "        self.name = owner_name\n",
        "        self.balance = 0.0\n",
        "        Account.id = Account.id + 1\n",
        "        self.id = Account.id\n",
        "           \n",
        "    def deposit(self, amount):\n",
        "        self.balance = self.balance + amount\n",
        "        \n",
        "    def withdraw(self, amount):\n",
        "        if self.balance > amount:\n",
        "            self.balance = self.balance - amount\n",
        "            \n",
        "    def getid(self):\n",
        "        return self.id\n",
        "               \n",
        "gheni_account = Account(\"Gheni\")  \n",
        "print(gheni_account.name)\n",
        "print(gheni_account.balance)\n",
        "gheni_account.deposit(30.0)\n",
        "gheni_account.deposit(230.0)\n",
        "print(gheni_account.balance)\n",
        "print(gheni_account.getid())\n",
        "\n",
        "\n",
        "abla_account = Account(\"Abla\")  \n",
        "print(abla_account.name)\n",
        "print(abla_account.balance)\n",
        "abla_account.deposit(130.0)\n",
        "abla_account.deposit(80.0)\n",
        "abla_account.withdraw(19.0)\n",
        "print(abla_account.balance)\n",
        "print(abla_account.getid())\n",
        "\n",
        "\n",
        "\n",
        "        \n",
        "    "
      ],
      "execution_count": 5,
      "outputs": [
        {
          "output_type": "stream",
          "name": "stdout",
          "text": [
            "Gheni\n",
            "0.0\n",
            "260.0\n",
            "1\n",
            "Abla\n",
            "0.0\n",
            "191.0\n",
            "2\n"
          ]
        }
      ]
    },
    {
      "cell_type": "code",
      "metadata": {
        "id": "tyUh7_kGa6QF"
      },
      "source": [],
      "execution_count": 5,
      "outputs": []
    }
  ]
}