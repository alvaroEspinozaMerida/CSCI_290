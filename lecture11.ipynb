{
  "nbformat": 4,
  "nbformat_minor": 0,
  "metadata": {
    "colab": {
      "name": "lecture11.ipynb",
      "provenance": [],
      "collapsed_sections": []
    },
    "kernelspec": {
      "name": "python3",
      "display_name": "Python 3"
    }
  },
  "cells": [
    {
      "cell_type": "code",
      "metadata": {
        "id": "Yw_Qjg87UeKv",
        "colab_type": "code",
        "colab": {}
      },
      "source": [
        "#Python class\n",
        "class Account:\n",
        "    id = 0     #class variable\n",
        "    \n",
        "    def __init__(self, owner_name):\n",
        "        self.name = owner_name\n",
        "        self.balance = 0.0\n",
        "        Account.id = Account.id + 1\n",
        "        self.id = Account.id\n",
        "           \n",
        "    def deposit(self, amount):\n",
        "        self.balance = self.balance + amount\n",
        "        \n",
        "    def withdraw(self, amount):\n",
        "        if self.balance > amount:\n",
        "            self.balance = self.balance - amount\n",
        "            \n",
        "    def getid(self):\n",
        "        return self.id\n",
        "               \n"
      ],
      "execution_count": 1,
      "outputs": []
    },
    {
      "cell_type": "code",
      "metadata": {
        "id": "7ZUokuSMUqSP",
        "colab_type": "code",
        "colab": {
          "base_uri": "https://localhost:8080/",
          "height": 170
        },
        "outputId": "c4aeda6f-74cf-45c0-95fe-dfc9785f51de"
      },
      "source": [
        "gheni_account = Account(\"Gheni\")  \n",
        "print(gheni_account.name)\n",
        "print(gheni_account.balance)\n",
        "gheni_account.deposit(30.0)\n",
        "gheni_account.deposit(230.0)\n",
        "print(gheni_account.balance)\n",
        "print(gheni_account.getid())\n",
        "\n",
        "\n",
        "print(\"---------------------\")\n",
        "abla_account = Account(\"Abla\")  \n",
        "print(abla_account.name)\n",
        "print(abla_account.balance)\n",
        "abla_account.deposit(130.0)\n",
        "abla_account.deposit(80.0)\n",
        "abla_account.withdraw(19.0)\n",
        "print(abla_account.balance)\n",
        "print(abla_account.getid())"
      ],
      "execution_count": 2,
      "outputs": [
        {
          "output_type": "stream",
          "text": [
            "Gheni\n",
            "0.0\n",
            "260.0\n",
            "1\n",
            "---------------------\n",
            "Abla\n",
            "0.0\n",
            "191.0\n",
            "2\n"
          ],
          "name": "stdout"
        }
      ]
    },
    {
      "cell_type": "code",
      "metadata": {
        "id": "LoCSQw0qU0fz",
        "colab_type": "code",
        "colab": {}
      },
      "source": [
        "#inheritance\n",
        "class CheckingAccount(Account):\n",
        "    pass"
      ],
      "execution_count": 4,
      "outputs": []
    },
    {
      "cell_type": "code",
      "metadata": {
        "id": "M-l8orjlU9zC",
        "colab_type": "code",
        "colab": {
          "base_uri": "https://localhost:8080/",
          "height": 51
        },
        "outputId": "95e77405-4735-4923-d005-11dfcec5d80e"
      },
      "source": [
        "myAccount = CheckingAccount(\"Abla\")\n",
        "print(myAccount.getid())\n",
        "print(myAccount.name)"
      ],
      "execution_count": 6,
      "outputs": [
        {
          "output_type": "stream",
          "text": [
            "4\n",
            "Abla\n"
          ],
          "name": "stdout"
        }
      ]
    },
    {
      "cell_type": "code",
      "metadata": {
        "id": "01xWFt19Vb-K",
        "colab_type": "code",
        "colab": {
          "base_uri": "https://localhost:8080/",
          "height": 34
        },
        "outputId": "17b45f51-a402-481a-f43c-e4f0edaa6817"
      },
      "source": [
        "class SavingsAccount(Account):\n",
        "    def __init__(self, name):\n",
        "        Account.__init__(self, name)\n",
        "\n",
        "yourAccount = SavingsAccount(\"Bob\")\n",
        "print(yourAccount.balance)"
      ],
      "execution_count": 9,
      "outputs": [
        {
          "output_type": "stream",
          "text": [
            "0.0\n"
          ],
          "name": "stdout"
        }
      ]
    },
    {
      "cell_type": "code",
      "metadata": {
        "id": "kl8Q-Oi2WYny",
        "colab_type": "code",
        "colab": {
          "base_uri": "https://localhost:8080/",
          "height": 34
        },
        "outputId": "777ec8dd-ee6e-4c2f-c7b2-e73cc80b4626"
      },
      "source": [
        "class SavingsAccount(Account):\n",
        "    def __init__(self, name, interest_rate):\n",
        "        super().__init__(name)\n",
        "        self.interest_rate= interest_rate\n",
        "\n",
        "herAccount = SavingsAccount(\"Diana\", 0.05)\n",
        "\n",
        "print(herAccount.getid())\n",
        "\n"
      ],
      "execution_count": 13,
      "outputs": [
        {
          "output_type": "stream",
          "text": [
            "8\n"
          ],
          "name": "stdout"
        }
      ]
    }
  ]
}