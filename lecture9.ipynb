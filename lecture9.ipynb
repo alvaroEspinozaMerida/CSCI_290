{
 "nbformat": 4,
 "nbformat_minor": 0,
 "metadata": {
  "colab": {
   "provenance": []
  },
  "kernelspec": {
   "name": "python3",
   "display_name": "Python 3"
  }
 },
 "cells": [
  {
   "cell_type": "code",
   "metadata": {
    "id": "JVy0AHh8m_Rm",
    "outputId": "36280d1c-9e3f-4f48-efea-7df468661d43",
    "colab": {
     "base_uri": "https://localhost:8080/",
     "height": 70
    }
   },
   "source": [
    "#@title Many String fields\n",
    "\n",
    "text = 'gheni' #@param {type:\"string\"}\n",
    "dropdown = '3rd option' #@param [\"1st option\", \"2nd option\", \"3rd option\"]\n",
    "text_and_dropdown = '2nd option' #@param [\"1st option\", \"2nd option\", \"3rd option\"] {allow-input: true}\n",
    "\n",
    "print(text)\n",
    "print(dropdown)\n",
    "print(text_and_dropdown)"
   ],
   "execution_count": null,
   "outputs": [
    {
     "output_type": "stream",
     "text": [
      "gheni\n",
      "3rd option\n",
      "2nd option\n"
     ],
     "name": "stdout"
    }
   ]
  }
 ]
}
