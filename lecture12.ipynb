{
  "nbformat": 4,
  "nbformat_minor": 0,
  "metadata": {
    "colab": {
      "name": "lecture12.ipynb",
      "provenance": [],
      "collapsed_sections": []
    },
    "kernelspec": {
      "name": "python3",
      "display_name": "Python 3"
    }
  },
  "cells": [
    {
      "cell_type": "code",
      "metadata": {
        "id": "8Y4118I5XnDe",
        "colab_type": "code",
        "colab": {
          "base_uri": "https://localhost:8080/",
          "height": 34
        },
        "outputId": "c01064e8-9984-494c-c2e2-69c4a55b4fc0"
      },
      "source": [
        "#% string\n",
        "first_name = \"Guido\"\n",
        "last_name = \"van Rossum\"\n",
        "\n",
        "name = \"%s %s\" %(first_name, last_name)\n",
        "age = 64\n",
        "\n",
        "print(\"%s is the creator of Python language. He is %d years old.\" %(name, age))\n",
        "\n",
        "\n"
      ],
      "execution_count": 5,
      "outputs": [
        {
          "output_type": "stream",
          "text": [
            "Guido van Rossum is the creator of Python language. He is 64 years old.\n"
          ],
          "name": "stdout"
        }
      ]
    },
    {
      "cell_type": "code",
      "metadata": {
        "id": "qMkoi24DZZRo",
        "colab_type": "code",
        "colab": {
          "base_uri": "https://localhost:8080/",
          "height": 34
        },
        "outputId": "6fa47079-9fee-410e-e521-e3f1cd543b9d"
      },
      "source": [
        "#str.format()\n",
        "hello = \"Hello, {}. You are {}.\".format(name, age)\n",
        "print(hello)\n",
        "\n"
      ],
      "execution_count": 6,
      "outputs": [
        {
          "output_type": "stream",
          "text": [
            "Hello, Guido van Rossum. You are 64.\n"
          ],
          "name": "stdout"
        }
      ]
    },
    {
      "cell_type": "code",
      "metadata": {
        "id": "NYbcBaS8Z6Bn",
        "colab_type": "code",
        "colab": {
          "base_uri": "https://localhost:8080/",
          "height": 34
        },
        "outputId": "e1fd4bfe-4197-4052-a481-fbd8481b21c8"
      },
      "source": [
        "#str.format()\n",
        "pythonCreator = {'name': name, 'age': age}\n",
        "\n",
        "hello = \"Hello, {name}. You are {age}.\".format(name=pythonCreator['name'], age=pythonCreator['age'])\n",
        "print(hello)\n",
        "\n",
        "\n"
      ],
      "execution_count": 8,
      "outputs": [
        {
          "output_type": "stream",
          "text": [
            "Hello, Guido van Rossum. You are 64.\n"
          ],
          "name": "stdout"
        }
      ]
    },
    {
      "cell_type": "code",
      "metadata": {
        "id": "-aF5_mvraeSM",
        "colab_type": "code",
        "colab": {
          "base_uri": "https://localhost:8080/",
          "height": 34
        },
        "outputId": "04b03ed8-8691-4dc5-fb24-a00a97537d0f"
      },
      "source": [
        "#f-string\n",
        "hello = F\"Hello, {name}. You are {age}.\"\n",
        "print(hello)\n"
      ],
      "execution_count": 10,
      "outputs": [
        {
          "output_type": "stream",
          "text": [
            "Hello, Guido van Rossum. You are 64.\n"
          ],
          "name": "stdout"
        }
      ]
    }
  ]
}